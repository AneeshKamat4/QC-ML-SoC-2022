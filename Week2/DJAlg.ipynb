{
 "cells": [
  {
   "cell_type": "code",
   "execution_count": 2,
   "id": "ca4f3ea3-4c01-44c7-ac8d-384c9765a133",
   "metadata": {},
   "outputs": [
    {
     "name": "stderr",
     "output_type": "stream",
     "text": [
      "ibmqfactory.load_account:WARNING:2022-05-27 14:51:22,672: Credentials are already in use. The existing account in the session will be replaced.\n"
     ]
    }
   ],
   "source": [
    "import numpy as np\n",
    "\n",
    "# Importing standard Qiskit libraries\n",
    "from qiskit import QuantumCircuit, assemble, transpile, Aer, IBMQ\n",
    "from qiskit.tools.jupyter import *\n",
    "from qiskit.visualization import *\n",
    "from ibm_quantum_widgets import *\n",
    "from qiskit.providers.aer import QasmSimulator\n",
    "from math import pi, sqrt\n",
    "sim = Aer.get_backend('aer_simulator')\n",
    "# Loading your IBM Quantum account(s)\n",
    "provider = IBMQ.load_account()\n",
    "from IPython.display import display, Math"
   ]
  },
  {
   "cell_type": "code",
   "execution_count": 4,
   "id": "c6fbc157-1edc-47f8-90cc-9cf45b6f22d4",
   "metadata": {},
   "outputs": [
    {
     "data": {
      "text/plain": [
       "<qiskit.circuit.instructionset.InstructionSet at 0x7fe0691088c0>"
      ]
     },
     "execution_count": 4,
     "metadata": {},
     "output_type": "execute_result"
    }
   ],
   "source": [
    "n = 3\n",
    "qcdj = QuantumCircuit(n+1)\n",
    "for i in range(n):\n",
    "    qcdj.h(i)\n",
    "qcdj.x(n)\n",
    "qcdj.h(n)"
   ]
  },
  {
   "cell_type": "code",
   "execution_count": 6,
   "id": "5441ac2a-d98b-4bb0-8ba7-cdf966d8f173",
   "metadata": {},
   "outputs": [],
   "source": [
    "def constant_oracle():\n",
    "    global qcdj,n\n",
    "    output = np.random.randint(2)\n",
    "    if output == 1:\n",
    "        qcdj.x(n)"
   ]
  },
  {
   "cell_type": "code",
   "execution_count": 8,
   "id": "02817696-059e-48fd-a5ff-3de9f625e100",
   "metadata": {},
   "outputs": [],
   "source": [
    "def balanced_oracle():\n",
    "    global qcdj,n\n",
    "    s = \"101\"\n",
    "    for q in range(len(s)):\n",
    "        if s[q] == '1':\n",
    "            qcdj.x(q)\n",
    "    qcdj.barrier()\n",
    "    for q in range(n):\n",
    "        qcdj.cx(q,n)\n",
    "    qcdj.barrier()\n",
    "    for q in range(len(s)):\n",
    "        if s[q] == '1':\n",
    "            qcdj.x(q)"
   ]
  },
  {
   "cell_type": "code",
   "execution_count": 9,
   "id": "a0b7799c-d933-4737-a2bf-efebb854fd45",
   "metadata": {},
   "outputs": [
    {
     "data": {
      "image/png": "[encoded data removed]",
      "text/plain": [
       "<Figure size 628.397x264.88 with 1 Axes>"
      ]
     },
     "execution_count": 9,
     "metadata": {},
     "output_type": "execute_result"
    }
   ],
   "source": [
    "#Example of Deutsch-Jozsa algorithm (abbreviated as DJ algorithm) acting on a balanced oracle.\n",
    "balanced_oracle()\n",
    "for i in range(n):\n",
    "    qcdj.h(i)\n",
    "\n",
    "qcdj.draw()"
   ]
  }
 ],
 "metadata": {
  "kernelspec": {
   "display_name": "Qiskit v0.35.0 (ipykernel)",
   "language": "python",
   "name": "python3"
  },
  "language_info": {
   "codemirror_mode": {
    "name": "ipython",
    "version": 3
   },
   "file_extension": ".py",
   "mimetype": "text/x-python",
   "name": "python",
   "nbconvert_exporter": "python",
   "pygments_lexer": "ipython3",
   "version": "3.8.13"
  },
  "widgets": {
   "application/vnd.jupyter.widget-state+json": {
    "state": {
     "0a08eb91c65e4b54960916c0aa87b1d8": {
      "model_module": "@jupyter-widgets/controls",
      "model_module_version": "1.5.0",
      "model_name": "DescriptionStyleModel",
      "state": {
       "description_width": ""
      }
     },
     "14ab249b0a374f87a69debbf39bdbb42": {
      "model_module": "@jupyter-widgets/controls",
      "model_module_version": "1.5.0",
      "model_name": "DescriptionStyleModel",
      "state": {
       "description_width": ""
      }
     },
     "1980f243bc9645fda697a9aad0002fc5": {
      "model_module": "@jupyter-widgets/base",
      "model_module_version": "1.2.0",
      "model_name": "LayoutModel",
      "state": {
       "width": "145px"
      }
     },
     "2eb947a6bf9148d2a6b9779475427b14": {
      "model_module": "@jupyter-widgets/base",
      "model_module_version": "1.2.0",
      "model_name": "LayoutModel",
      "state": {}
     },
     "45f2848d68064787b031dfc505f485e4": {
      "model_module": "@jupyter-widgets/base",
      "model_module_version": "1.2.0",
      "model_name": "LayoutModel",
      "state": {
       "width": "190px"
      }
     },
     "49d08e2d77f94bc0bc79db1ce19222be": {
      "model_module": "@jupyter-widgets/controls",
      "model_module_version": "1.5.0",
      "model_name": "HBoxModel",
      "state": {
       "children": [
        "IPY_MODEL_8f65cb6d03e24166b3f0d13ed5f45894",
        "IPY_MODEL_ff4f970a7be340c6b434bf80a623f91a",
        "IPY_MODEL_83a74a0d74e945019f3ff26441e1dd26",
        "IPY_MODEL_fd77c2567cc24b9190b28651aaaa760e",
        "IPY_MODEL_9e3d25d116434f4ebc139b8a0c545380"
       ],
       "layout": "IPY_MODEL_9a67f2c592ea4f0fa512dd7a98457034"
      }
     },
     "4fd6182cab0b4a34a242e277c039e367": {
      "model_module": "@jupyter-widgets/base",
      "model_module_version": "1.2.0",
      "model_name": "LayoutModel",
      "state": {
       "grid_template_areas": "\n                                       \". . . . right \"\n                                        ",
       "grid_template_columns": "20% 20% 20% 20% 20%",
       "width": "100%"
      }
     },
     "60d50bfe5fc54eb49a1a749e3cd83c4a": {
      "model_module": "@jupyter-widgets/controls",
      "model_module_version": "1.5.0",
      "model_name": "GridBoxModel",
      "state": {
       "children": [
        "IPY_MODEL_9f3e7c3a87eb47f08b14b7ba81f362fe"
       ],
       "layout": "IPY_MODEL_4fd6182cab0b4a34a242e277c039e367"
      }
     },
     "6471d5803fb149a59a91182ed9a861fe": {
      "model_module": "@jupyter-widgets/controls",
      "model_module_version": "1.5.0",
      "model_name": "ButtonStyleModel",
      "state": {}
     },
     "6cc9c3d1a337466dbae29a7310d88ccf": {
      "model_module": "@jupyter-widgets/controls",
      "model_module_version": "1.5.0",
      "model_name": "DescriptionStyleModel",
      "state": {
       "description_width": ""
      }
     },
     "83a74a0d74e945019f3ff26441e1dd26": {
      "model_module": "@jupyter-widgets/controls",
      "model_module_version": "1.5.0",
      "model_name": "HTMLModel",
      "state": {
       "layout": "IPY_MODEL_d2151004ea2443af9747ee4260c932d2",
       "style": "IPY_MODEL_8af6c3ee928b452c91ca6c02b3fce4f6",
       "value": "<h5>Status</h5>"
      }
     },
     "8859476cf41b4bedb2177ff93e3dc605": {
      "model_module": "@jupyter-widgets/base",
      "model_module_version": "1.2.0",
      "model_name": "LayoutModel",
      "state": {
       "grid_area": "right",
       "padding": "0px 0px 0px 0px",
       "width": "70px"
      }
     },
     "8af6c3ee928b452c91ca6c02b3fce4f6": {
      "model_module": "@jupyter-widgets/controls",
      "model_module_version": "1.5.0",
      "model_name": "DescriptionStyleModel",
      "state": {
       "description_width": ""
      }
     },
     "8f65cb6d03e24166b3f0d13ed5f45894": {
      "model_module": "@jupyter-widgets/controls",
      "model_module_version": "1.5.0",
      "model_name": "HTMLModel",
      "state": {
       "layout": "IPY_MODEL_45f2848d68064787b031dfc505f485e4",
       "style": "IPY_MODEL_6cc9c3d1a337466dbae29a7310d88ccf",
       "value": "<h5>Job ID</h5>"
      }
     },
     "9a67f2c592ea4f0fa512dd7a98457034": {
      "model_module": "@jupyter-widgets/base",
      "model_module_version": "1.2.0",
      "model_name": "LayoutModel",
      "state": {
       "margin": "0px 0px 0px 37px",
       "width": "600px"
      }
     },
     "9e3d25d116434f4ebc139b8a0c545380": {
      "model_module": "@jupyter-widgets/controls",
      "model_module_version": "1.5.0",
      "model_name": "HTMLModel",
      "state": {
       "layout": "IPY_MODEL_2eb947a6bf9148d2a6b9779475427b14",
       "style": "IPY_MODEL_d749eccc8f0e4c5fab2d8d94b30147fc",
       "value": "<h5>Message</h5>"
      }
     },
     "9f3e7c3a87eb47f08b14b7ba81f362fe": {
      "model_module": "@jupyter-widgets/controls",
      "model_module_version": "1.5.0",
      "model_name": "ButtonModel",
      "state": {
       "button_style": "primary",
       "description": "Clear",
       "layout": "IPY_MODEL_8859476cf41b4bedb2177ff93e3dc605",
       "style": "IPY_MODEL_6471d5803fb149a59a91182ed9a861fe"
      }
     },
     "d2151004ea2443af9747ee4260c932d2": {
      "model_module": "@jupyter-widgets/base",
      "model_module_version": "1.2.0",
      "model_name": "LayoutModel",
      "state": {
       "width": "95px"
      }
     },
     "d749eccc8f0e4c5fab2d8d94b30147fc": {
      "model_module": "@jupyter-widgets/controls",
      "model_module_version": "1.5.0",
      "model_name": "DescriptionStyleModel",
      "state": {
       "description_width": ""
      }
     },
     "dc2bb8ef495b43fabf5720a5634f4e77": {
      "model_module": "@jupyter-widgets/controls",
      "model_module_version": "1.5.0",
      "model_name": "DescriptionStyleModel",
      "state": {
       "description_width": ""
      }
     },
     "e88d55338cf645adbd2dfad56471cfe8": {
      "model_module": "@jupyter-widgets/base",
      "model_module_version": "1.2.0",
      "model_name": "LayoutModel",
      "state": {
       "margin": "0px 0px 10px 0px"
      }
     },
     "f6c0874c2bf94f1ca81643ace83dfe84": {
      "model_module": "@jupyter-widgets/base",
      "model_module_version": "1.2.0",
      "model_name": "LayoutModel",
      "state": {
       "width": "70px"
      }
     },
     "fc052067b0264bc7b357765eeead8dfe": {
      "model_module": "@jupyter-widgets/controls",
      "model_module_version": "1.5.0",
      "model_name": "HTMLModel",
      "state": {
       "layout": "IPY_MODEL_e88d55338cf645adbd2dfad56471cfe8",
       "style": "IPY_MODEL_14ab249b0a374f87a69debbf39bdbb42",
       "value": "<p style='font-family: IBM Plex Sans, Arial, Helvetica, sans-serif; font-size: 20px; font-weight: medium;'>Circuit Properties</p>"
      }
     },
     "fd77c2567cc24b9190b28651aaaa760e": {
      "model_module": "@jupyter-widgets/controls",
      "model_module_version": "1.5.0",
      "model_name": "HTMLModel",
      "state": {
       "layout": "IPY_MODEL_f6c0874c2bf94f1ca81643ace83dfe84",
       "style": "IPY_MODEL_dc2bb8ef495b43fabf5720a5634f4e77",
       "value": "<h5>Queue</h5>"
      }
     },
     "ff4f970a7be340c6b434bf80a623f91a": {
      "model_module": "@jupyter-widgets/controls",
      "model_module_version": "1.5.0",
      "model_name": "HTMLModel",
      "state": {
       "layout": "IPY_MODEL_1980f243bc9645fda697a9aad0002fc5",
       "style": "IPY_MODEL_0a08eb91c65e4b54960916c0aa87b1d8",
       "value": "<h5>Backend</h5>"
      }
     }
    },
    "version_major": 2,
    "version_minor": 0
   }
  }
 },
 "nbformat": 4,
 "nbformat_minor": 5
}
