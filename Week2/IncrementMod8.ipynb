{
 "cells": [
  {
   "cell_type": "code",
   "execution_count": 2,
   "id": "2f60b5ab-3ec7-494d-b08f-7e75d4190bdd",
   "metadata": {},
   "outputs": [
    {
     "name": "stderr",
     "output_type": "stream",
     "text": [
      "ibmqfactory.load_account:WARNING:2022-05-27 14:46:31,046: Credentials are already in use. The existing account in the session will be replaced.\n"
     ]
    }
   ],
   "source": [
    "import numpy as np\n",
    "\n",
    "# Importing standard Qiskit libraries\n",
    "from qiskit import QuantumCircuit, assemble, transpile, Aer, IBMQ\n",
    "from qiskit.tools.jupyter import *\n",
    "from qiskit.visualization import *\n",
    "from ibm_quantum_widgets import *\n",
    "from qiskit.providers.aer import QasmSimulator\n",
    "from math import pi, sqrt\n",
    "sim = Aer.get_backend('aer_simulator')\n",
    "# Loading your IBM Quantum account(s)\n",
    "provider = IBMQ.load_account()\n",
    "from IPython.display import display, Math"
   ]
  },
  {
   "cell_type": "code",
   "execution_count": 6,
   "id": "fc2f8f93-722c-4c93-987f-c54fe3ee2a9c",
   "metadata": {},
   "outputs": [
    {
     "data": {
      "text/latex": [
       "$$\n",
       "\\text{Circuit = }\n",
       "\n",
       "\\begin{bmatrix}\n",
       "0 & 0 & 0 & 0 & 0 & 0 & 0 & 1  \\\\\n",
       " 1 & 0 & 0 & 0 & 0 & 0 & 0 & 0  \\\\\n",
       " 0 & 1 & 0 & 0 & 0 & 0 & 0 & 0  \\\\\n",
       " 0 & 0 & 1 & 0 & 0 & 0 & 0 & 0  \\\\\n",
       " 0 & 0 & 0 & 1 & 0 & 0 & 0 & 0  \\\\\n",
       " 0 & 0 & 0 & 0 & 1 & 0 & 0 & 0  \\\\\n",
       " 0 & 0 & 0 & 0 & 0 & 1 & 0 & 0  \\\\\n",
       " 0 & 0 & 0 & 0 & 0 & 0 & 1 & 0  \\\\\n",
       " \\end{bmatrix}\n",
       "$$"
      ],
      "text/plain": [
       "<IPython.core.display.Latex object>"
      ]
     },
     "metadata": {},
     "output_type": "display_data"
    },
    {
     "data": {
      "image/png": "[encoded data removed]",
      "text/plain": [
       "<Figure size 327.397x204.68 with 1 Axes>"
      ]
     },
     "execution_count": 6,
     "metadata": {},
     "output_type": "execute_result"
    }
   ],
   "source": [
    "qc_incr = QuantumCircuit(3)\n",
    "qc_incr.ccx(0,1,2)\n",
    "qc_incr.cx(0,1)\n",
    "qc_incr.x(0)\n",
    "\n",
    "usim = Aer.get_backend('aer_simulator')\n",
    "qc_incr.save_unitary()\n",
    "qobj = assemble(qc_incr)\n",
    "unitary = usim.run(qobj).result().get_unitary()\n",
    "display(array_to_latex(unitary, prefix=\"\\\\text{Circuit = }\\n\"))\n",
    "qc_incr.draw()"
   ]
  },
  {
   "cell_type": "code",
   "execution_count": null,
   "id": "fec53841-7c9d-46d1-8aaa-7ef82f60ff0b",
   "metadata": {},
   "outputs": [],
   "source": []
  }
 ],
 "metadata": {
  "kernelspec": {
   "display_name": "Qiskit v0.35.0 (ipykernel)",
   "language": "python",
   "name": "python3"
  },
  "language_info": {
   "codemirror_mode": {
    "name": "ipython",
    "version": 3
   },
   "file_extension": ".py",
   "mimetype": "text/x-python",
   "name": "python",
   "nbconvert_exporter": "python",
   "pygments_lexer": "ipython3",
   "version": "3.8.13"
  },
  "widgets": {
   "application/vnd.jupyter.widget-state+json": {
    "state": {
     "0d3a808978364b72a4a5f272a4f0cee7": {
      "model_module": "@jupyter-widgets/controls",
      "model_module_version": "1.5.0",
      "model_name": "HTMLModel",
      "state": {
       "layout": "IPY_MODEL_943c0eaa27e148fa9198c363acfd670a",
       "style": "IPY_MODEL_1bcb24c5fa2e4d8bb85c3e74d3d8b9bd",
       "value": "<h5>Queue</h5>"
      }
     },
     "0f28302aa8bd4d9baec082aa95862857": {
      "model_module": "@jupyter-widgets/base",
      "model_module_version": "1.2.0",
      "model_name": "LayoutModel",
      "state": {
       "width": "145px"
      }
     },
     "149237d6223b484fbae274e861b7dc98": {
      "model_module": "@jupyter-widgets/controls",
      "model_module_version": "1.5.0",
      "model_name": "DescriptionStyleModel",
      "state": {
       "description_width": ""
      }
     },
     "1bcb24c5fa2e4d8bb85c3e74d3d8b9bd": {
      "model_module": "@jupyter-widgets/controls",
      "model_module_version": "1.5.0",
      "model_name": "DescriptionStyleModel",
      "state": {
       "description_width": ""
      }
     },
     "1dc9a1c3408f4d03af1d63738b6321f1": {
      "model_module": "@jupyter-widgets/base",
      "model_module_version": "1.2.0",
      "model_name": "LayoutModel",
      "state": {
       "width": "95px"
      }
     },
     "3a67c6bd127d4b0dbabf601e2aac4a87": {
      "model_module": "@jupyter-widgets/controls",
      "model_module_version": "1.5.0",
      "model_name": "HTMLModel",
      "state": {
       "layout": "IPY_MODEL_93d9ab438f6a4575891a1593ad5aeec8",
       "style": "IPY_MODEL_686fe0c268094735ac9a23deb707e178",
       "value": "<h5>Job ID</h5>"
      }
     },
     "3d336cff00974dc59c76aa7d8d8b9514": {
      "model_module": "@jupyter-widgets/controls",
      "model_module_version": "1.5.0",
      "model_name": "DescriptionStyleModel",
      "state": {
       "description_width": ""
      }
     },
     "4ed16acb3a2a46aca194f23c0889ee79": {
      "model_module": "@jupyter-widgets/base",
      "model_module_version": "1.2.0",
      "model_name": "LayoutModel",
      "state": {
       "margin": "0px 0px 10px 0px"
      }
     },
     "534f76a041b0442abdd01791b50592cb": {
      "model_module": "@jupyter-widgets/controls",
      "model_module_version": "1.5.0",
      "model_name": "HTMLModel",
      "state": {
       "layout": "IPY_MODEL_713f2f99c542438c9ad716216edd409f",
       "style": "IPY_MODEL_6dc14b2b4c4744849dd1d7e4d8635b1a",
       "value": "<h5>Message</h5>"
      }
     },
     "58eedc53f8fd4eb29078b6f2f217ae2c": {
      "model_module": "@jupyter-widgets/controls",
      "model_module_version": "1.5.0",
      "model_name": "ButtonModel",
      "state": {
       "button_style": "primary",
       "description": "Clear",
       "layout": "IPY_MODEL_6abe888feb1e47389377b89f752a5dce",
       "style": "IPY_MODEL_9fc4415935014a4fb37d740e5d838f2d"
      }
     },
     "686fe0c268094735ac9a23deb707e178": {
      "model_module": "@jupyter-widgets/controls",
      "model_module_version": "1.5.0",
      "model_name": "DescriptionStyleModel",
      "state": {
       "description_width": ""
      }
     },
     "6abe888feb1e47389377b89f752a5dce": {
      "model_module": "@jupyter-widgets/base",
      "model_module_version": "1.2.0",
      "model_name": "LayoutModel",
      "state": {
       "grid_area": "right",
       "padding": "0px 0px 0px 0px",
       "width": "70px"
      }
     },
     "6dc14b2b4c4744849dd1d7e4d8635b1a": {
      "model_module": "@jupyter-widgets/controls",
      "model_module_version": "1.5.0",
      "model_name": "DescriptionStyleModel",
      "state": {
       "description_width": ""
      }
     },
     "713f2f99c542438c9ad716216edd409f": {
      "model_module": "@jupyter-widgets/base",
      "model_module_version": "1.2.0",
      "model_name": "LayoutModel",
      "state": {}
     },
     "7d134ba0277841469d399e2ab06b7d7b": {
      "model_module": "@jupyter-widgets/controls",
      "model_module_version": "1.5.0",
      "model_name": "GridBoxModel",
      "state": {
       "children": [
        "IPY_MODEL_58eedc53f8fd4eb29078b6f2f217ae2c"
       ],
       "layout": "IPY_MODEL_dc0f953291734e4e84beced10e8ee34d"
      }
     },
     "868353f2e1f447cb8dba295f4c8bf295": {
      "model_module": "@jupyter-widgets/controls",
      "model_module_version": "1.5.0",
      "model_name": "DescriptionStyleModel",
      "state": {
       "description_width": ""
      }
     },
     "93d9ab438f6a4575891a1593ad5aeec8": {
      "model_module": "@jupyter-widgets/base",
      "model_module_version": "1.2.0",
      "model_name": "LayoutModel",
      "state": {
       "width": "190px"
      }
     },
     "943c0eaa27e148fa9198c363acfd670a": {
      "model_module": "@jupyter-widgets/base",
      "model_module_version": "1.2.0",
      "model_name": "LayoutModel",
      "state": {
       "width": "70px"
      }
     },
     "94f86e1fc90e4012be5cd3db463200c1": {
      "model_module": "@jupyter-widgets/controls",
      "model_module_version": "1.5.0",
      "model_name": "HTMLModel",
      "state": {
       "layout": "IPY_MODEL_4ed16acb3a2a46aca194f23c0889ee79",
       "style": "IPY_MODEL_149237d6223b484fbae274e861b7dc98",
       "value": "<p style='font-family: IBM Plex Sans, Arial, Helvetica, sans-serif; font-size: 20px; font-weight: medium;'>Circuit Properties</p>"
      }
     },
     "9f36e7bacf5d4fbd8ceeb353959080d5": {
      "model_module": "@jupyter-widgets/base",
      "model_module_version": "1.2.0",
      "model_name": "LayoutModel",
      "state": {
       "margin": "0px 0px 0px 37px",
       "width": "600px"
      }
     },
     "9fc4415935014a4fb37d740e5d838f2d": {
      "model_module": "@jupyter-widgets/controls",
      "model_module_version": "1.5.0",
      "model_name": "ButtonStyleModel",
      "state": {}
     },
     "a4335ff620d84d72aa27183cad3bb32e": {
      "model_module": "@jupyter-widgets/controls",
      "model_module_version": "1.5.0",
      "model_name": "HTMLModel",
      "state": {
       "layout": "IPY_MODEL_0f28302aa8bd4d9baec082aa95862857",
       "style": "IPY_MODEL_3d336cff00974dc59c76aa7d8d8b9514",
       "value": "<h5>Backend</h5>"
      }
     },
     "c208c66e9b86467097aa94b4787fb4e0": {
      "model_module": "@jupyter-widgets/controls",
      "model_module_version": "1.5.0",
      "model_name": "HBoxModel",
      "state": {
       "children": [
        "IPY_MODEL_3a67c6bd127d4b0dbabf601e2aac4a87",
        "IPY_MODEL_a4335ff620d84d72aa27183cad3bb32e",
        "IPY_MODEL_e498fb6a52e7483f998b8ab5e736b04a",
        "IPY_MODEL_0d3a808978364b72a4a5f272a4f0cee7",
        "IPY_MODEL_534f76a041b0442abdd01791b50592cb"
       ],
       "layout": "IPY_MODEL_9f36e7bacf5d4fbd8ceeb353959080d5"
      }
     },
     "dc0f953291734e4e84beced10e8ee34d": {
      "model_module": "@jupyter-widgets/base",
      "model_module_version": "1.2.0",
      "model_name": "LayoutModel",
      "state": {
       "grid_template_areas": "\n                                       \". . . . right \"\n                                        ",
       "grid_template_columns": "20% 20% 20% 20% 20%",
       "width": "100%"
      }
     },
     "e498fb6a52e7483f998b8ab5e736b04a": {
      "model_module": "@jupyter-widgets/controls",
      "model_module_version": "1.5.0",
      "model_name": "HTMLModel",
      "state": {
       "layout": "IPY_MODEL_1dc9a1c3408f4d03af1d63738b6321f1",
       "style": "IPY_MODEL_868353f2e1f447cb8dba295f4c8bf295",
       "value": "<h5>Status</h5>"
      }
     }
    },
    "version_major": 2,
    "version_minor": 0
   }
  }
 },
 "nbformat": 4,
 "nbformat_minor": 5
}
