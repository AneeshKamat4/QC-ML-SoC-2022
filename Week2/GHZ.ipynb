{
 "cells": [
  {
   "cell_type": "code",
   "execution_count": 7,
   "id": "de4b382b-e282-4730-88a2-b3e069eafcaf",
   "metadata": {},
   "outputs": [
    {
     "name": "stderr",
     "output_type": "stream",
     "text": [
      "ibmqfactory.load_account:WARNING:2022-05-27 14:36:55,276: Credentials are already in use. The existing account in the session will be replaced.\n"
     ]
    }
   ],
   "source": [
    "import numpy as np\n",
    "\n",
    "# Importing standard Qiskit libraries\n",
    "from qiskit import QuantumCircuit, assemble, transpile, Aer, IBMQ\n",
    "from qiskit.tools.jupyter import *\n",
    "from qiskit.visualization import *\n",
    "from ibm_quantum_widgets import *\n",
    "from qiskit.providers.aer import QasmSimulator\n",
    "from math import pi, sqrt\n",
    "sim = Aer.get_backend('aer_simulator')\n",
    "# Loading your IBM Quantum account(s)\n",
    "provider = IBMQ.load_account()"
   ]
  },
  {
   "cell_type": "code",
   "execution_count": 8,
   "id": "e4e76835-578f-4fc6-8b93-cea6b85870c7",
   "metadata": {},
   "outputs": [
    {
     "data": {
      "image/png": "[encoded data removed]",
      "text/plain": [
       "<Figure size 387.597x325.08 with 1 Axes>"
      ]
     },
     "execution_count": 8,
     "metadata": {},
     "output_type": "execute_result"
    }
   ],
   "source": [
    "n = 5\n",
    "qc = QuantumCircuit(n)\n",
    "qc.h(0)\n",
    "for i in range(1,n):\n",
    "    qc.cx(0,i)\n",
    "qc.draw()"
   ]
  },
  {
   "cell_type": "code",
   "execution_count": 9,
   "id": "57f7bdd7-b361-479b-a0fe-597f531a5bc8",
   "metadata": {},
   "outputs": [
    {
     "data": {
      "text/latex": [
       "$$\n",
       "\\text{Statevector =}\n",
       "\\begin{bmatrix}\n",
       "\\tfrac{1}{\\sqrt{2}} & 0 & 0 & 0 & \\cdots & 0 & 0 & \\tfrac{1}{\\sqrt{2}}  \\\\\n",
       " \\end{bmatrix}\n",
       "$$"
      ],
      "text/plain": [
       "<IPython.core.display.Latex object>"
      ]
     },
     "execution_count": 9,
     "metadata": {},
     "output_type": "execute_result"
    }
   ],
   "source": [
    "qc.save_statevector()\n",
    "qobj = assemble(qc)\n",
    "result = sim.run(qobj).result()\n",
    "final_state = result.get_statevector()\n",
    "array_to_latex(final_state,prefix = \"\\\\text{Statevector =}\")"
   ]
  }
 ],
 "metadata": {
  "kernelspec": {
   "display_name": "Qiskit v0.35.0 (ipykernel)",
   "language": "python",
   "name": "python3"
  },
  "language_info": {
   "codemirror_mode": {
    "name": "ipython",
    "version": 3
   },
   "file_extension": ".py",
   "mimetype": "text/x-python",
   "name": "python",
   "nbconvert_exporter": "python",
   "pygments_lexer": "ipython3",
   "version": "3.8.13"
  },
  "widgets": {
   "application/vnd.jupyter.widget-state+json": {
    "state": {
     "0a6e7936fa5f4721a5b064933e133dea": {
      "model_module": "@jupyter-widgets/base",
      "model_module_version": "1.2.0",
      "model_name": "LayoutModel",
      "state": {
       "grid_template_areas": "\n                                       \". . . . right \"\n                                        ",
       "grid_template_columns": "20% 20% 20% 20% 20%",
       "width": "100%"
      }
     },
     "14337b56611e4757814712eb2d38386d": {
      "model_module": "@jupyter-widgets/base",
      "model_module_version": "1.2.0",
      "model_name": "LayoutModel",
      "state": {}
     },
     "18773316780d479cb65340092a34268d": {
      "model_module": "@jupyter-widgets/base",
      "model_module_version": "1.2.0",
      "model_name": "LayoutModel",
      "state": {
       "width": "145px"
      }
     },
     "18c08c5540f244d29497017620bf24ee": {
      "model_module": "@jupyter-widgets/controls",
      "model_module_version": "1.5.0",
      "model_name": "HTMLModel",
      "state": {
       "layout": "IPY_MODEL_a736e6c7beaa4efb9661406f8b00d2a8",
       "style": "IPY_MODEL_5afc42d26915416babacf4f187b8a47d",
       "value": "<p style='font-family: IBM Plex Sans, Arial, Helvetica, sans-serif; font-size: 20px; font-weight: medium;'>Circuit Properties</p>"
      }
     },
     "2156478c813c49a58ea8c8bf028ea691": {
      "model_module": "@jupyter-widgets/controls",
      "model_module_version": "1.5.0",
      "model_name": "GridBoxModel",
      "state": {
       "children": [
        "IPY_MODEL_99f53c03d0ae4a9087c006fbe0921905"
       ],
       "layout": "IPY_MODEL_0a6e7936fa5f4721a5b064933e133dea"
      }
     },
     "3751831cc47f4052a05ebc5421f7cac2": {
      "model_module": "@jupyter-widgets/controls",
      "model_module_version": "1.5.0",
      "model_name": "DescriptionStyleModel",
      "state": {
       "description_width": ""
      }
     },
     "4d4b9e1a99fd45f3bf2df021a8fad07d": {
      "model_module": "@jupyter-widgets/base",
      "model_module_version": "1.2.0",
      "model_name": "LayoutModel",
      "state": {
       "grid_area": "right",
       "padding": "0px 0px 0px 0px",
       "width": "70px"
      }
     },
     "5afc42d26915416babacf4f187b8a47d": {
      "model_module": "@jupyter-widgets/controls",
      "model_module_version": "1.5.0",
      "model_name": "DescriptionStyleModel",
      "state": {
       "description_width": ""
      }
     },
     "618d71453a9d4b03ad8d8f082f421a23": {
      "model_module": "@jupyter-widgets/controls",
      "model_module_version": "1.5.0",
      "model_name": "DescriptionStyleModel",
      "state": {
       "description_width": ""
      }
     },
     "64e345054583474f8f806e3bceac1d8e": {
      "model_module": "@jupyter-widgets/base",
      "model_module_version": "1.2.0",
      "model_name": "LayoutModel",
      "state": {
       "width": "95px"
      }
     },
     "6aa8db7d3bf9415eb1b676ce5104724c": {
      "model_module": "@jupyter-widgets/controls",
      "model_module_version": "1.5.0",
      "model_name": "DescriptionStyleModel",
      "state": {
       "description_width": ""
      }
     },
     "6e6f523d4ae64c179dc8a8b283eaa295": {
      "model_module": "@jupyter-widgets/controls",
      "model_module_version": "1.5.0",
      "model_name": "HTMLModel",
      "state": {
       "layout": "IPY_MODEL_fbd4449753e148088180205cbba8adeb",
       "style": "IPY_MODEL_618d71453a9d4b03ad8d8f082f421a23",
       "value": "<h5>Queue</h5>"
      }
     },
     "75cdca5a8f7946a1985bfcf057e9be6b": {
      "model_module": "@jupyter-widgets/base",
      "model_module_version": "1.2.0",
      "model_name": "LayoutModel",
      "state": {
       "width": "190px"
      }
     },
     "99f53c03d0ae4a9087c006fbe0921905": {
      "model_module": "@jupyter-widgets/controls",
      "model_module_version": "1.5.0",
      "model_name": "ButtonModel",
      "state": {
       "button_style": "primary",
       "description": "Clear",
       "layout": "IPY_MODEL_4d4b9e1a99fd45f3bf2df021a8fad07d",
       "style": "IPY_MODEL_b2fd3e61015d4870ac6e4daa09aba20b"
      }
     },
     "a736e6c7beaa4efb9661406f8b00d2a8": {
      "model_module": "@jupyter-widgets/base",
      "model_module_version": "1.2.0",
      "model_name": "LayoutModel",
      "state": {
       "margin": "0px 0px 10px 0px"
      }
     },
     "ae849db25ecf419d83561f07e7bfb864": {
      "model_module": "@jupyter-widgets/base",
      "model_module_version": "1.2.0",
      "model_name": "LayoutModel",
      "state": {
       "margin": "0px 0px 0px 37px",
       "width": "600px"
      }
     },
     "af5c8e7ebb5d4a228fa576aa0d618bcd": {
      "model_module": "@jupyter-widgets/controls",
      "model_module_version": "1.5.0",
      "model_name": "HTMLModel",
      "state": {
       "layout": "IPY_MODEL_14337b56611e4757814712eb2d38386d",
       "style": "IPY_MODEL_6aa8db7d3bf9415eb1b676ce5104724c",
       "value": "<h5>Message</h5>"
      }
     },
     "afbe7207d94246c4bc417fed7c0b085a": {
      "model_module": "@jupyter-widgets/controls",
      "model_module_version": "1.5.0",
      "model_name": "HTMLModel",
      "state": {
       "layout": "IPY_MODEL_18773316780d479cb65340092a34268d",
       "style": "IPY_MODEL_c16ec6b1ca2c4cc6992ee94ee1744ed7",
       "value": "<h5>Backend</h5>"
      }
     },
     "b2fd3e61015d4870ac6e4daa09aba20b": {
      "model_module": "@jupyter-widgets/controls",
      "model_module_version": "1.5.0",
      "model_name": "ButtonStyleModel",
      "state": {}
     },
     "c16ec6b1ca2c4cc6992ee94ee1744ed7": {
      "model_module": "@jupyter-widgets/controls",
      "model_module_version": "1.5.0",
      "model_name": "DescriptionStyleModel",
      "state": {
       "description_width": ""
      }
     },
     "c5a6e764c94a4c0492ef6c42b424f3dc": {
      "model_module": "@jupyter-widgets/controls",
      "model_module_version": "1.5.0",
      "model_name": "DescriptionStyleModel",
      "state": {
       "description_width": ""
      }
     },
     "d9b59f7b626241b79f0f9e95e66d2536": {
      "model_module": "@jupyter-widgets/controls",
      "model_module_version": "1.5.0",
      "model_name": "HTMLModel",
      "state": {
       "layout": "IPY_MODEL_64e345054583474f8f806e3bceac1d8e",
       "style": "IPY_MODEL_3751831cc47f4052a05ebc5421f7cac2",
       "value": "<h5>Status</h5>"
      }
     },
     "de47e79bad1341598668f62dbd62c4a7": {
      "model_module": "@jupyter-widgets/controls",
      "model_module_version": "1.5.0",
      "model_name": "HBoxModel",
      "state": {
       "children": [
        "IPY_MODEL_ea13b728f29b42b393b9d9092694515e",
        "IPY_MODEL_afbe7207d94246c4bc417fed7c0b085a",
        "IPY_MODEL_d9b59f7b626241b79f0f9e95e66d2536",
        "IPY_MODEL_6e6f523d4ae64c179dc8a8b283eaa295",
        "IPY_MODEL_af5c8e7ebb5d4a228fa576aa0d618bcd"
       ],
       "layout": "IPY_MODEL_ae849db25ecf419d83561f07e7bfb864"
      }
     },
     "ea13b728f29b42b393b9d9092694515e": {
      "model_module": "@jupyter-widgets/controls",
      "model_module_version": "1.5.0",
      "model_name": "HTMLModel",
      "state": {
       "layout": "IPY_MODEL_75cdca5a8f7946a1985bfcf057e9be6b",
       "style": "IPY_MODEL_c5a6e764c94a4c0492ef6c42b424f3dc",
       "value": "<h5>Job ID</h5>"
      }
     },
     "fbd4449753e148088180205cbba8adeb": {
      "model_module": "@jupyter-widgets/base",
      "model_module_version": "1.2.0",
      "model_name": "LayoutModel",
      "state": {
       "width": "70px"
      }
     }
    },
    "version_major": 2,
    "version_minor": 0
   }
  }
 },
 "nbformat": 4,
 "nbformat_minor": 5
}
