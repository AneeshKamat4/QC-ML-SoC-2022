{
 "cells": [
  {
   "cell_type": "code",
   "execution_count": 5,
   "id": "d2c306fe-0f52-4d06-bb3a-566ab1a9ae9d",
   "metadata": {},
   "outputs": [],
   "source": [
    "import numpy as np\n",
    "\n",
    "# Importing standard Qiskit libraries\n",
    "from qiskit import QuantumCircuit, assemble, transpile, Aer, IBMQ\n",
    "from qiskit.tools.jupyter import *\n",
    "from qiskit.visualization import *\n",
    "from ibm_quantum_widgets import *\n",
    "from qiskit.providers.aer import QasmSimulator\n",
    "from math import pi, sqrt\n",
    "sim = Aer.get_backend('aer_simulator')\n",
    "# Loading your IBM Quantum account(s)\n",
    "provider = IBMQ.load_account()\n",
    "from IPython.display import display, Math"
   ]
  },
  {
   "cell_type": "code",
   "execution_count": 12,
   "id": "e750593c-1898-45e0-80d8-8177a1a1280d",
   "metadata": {},
   "outputs": [
    {
     "data": {
      "text/latex": [
       "$$\n",
       "\\text{Circuit = }\n",
       "\n",
       "\\begin{bmatrix}\n",
       "1 & 0 & 0 & 0  \\\\\n",
       " 0 & 0 & 1 & 0  \\\\\n",
       " 0 & 1 & 0 & 0  \\\\\n",
       " 0 & 0 & 0 & 1  \\\\\n",
       " \\end{bmatrix}\n",
       "$$"
      ],
      "text/plain": [
       "<IPython.core.display.Latex object>"
      ]
     },
     "metadata": {},
     "output_type": "display_data"
    },
    {
     "data": {
      "image/png": "[encoded data removed]",
      "text/plain": [
       "<Figure size 327.252x144.48 with 1 Axes>"
      ]
     },
     "execution_count": 12,
     "metadata": {},
     "output_type": "execute_result"
    }
   ],
   "source": [
    "qc_swap = QuantumCircuit(2)\n",
    "qc_swap.cx(1,0)\n",
    "qc_swap.cx(0,1)\n",
    "qc_swap.cx(1,0)\n",
    "\n",
    "usim = Aer.get_backend('aer_simulator')\n",
    "qc_swap.save_unitary()\n",
    "qobj = assemble(qc_swap)\n",
    "unitary = usim.run(qobj).result().get_unitary()\n",
    "display(array_to_latex(unitary, prefix=\"\\\\text{Circuit = }\\n\"))\n",
    "qc_swap.draw()"
   ]
  },
  {
   "cell_type": "code",
   "execution_count": null,
   "id": "857df7dd-d736-419d-9354-4e1ebca2590b",
   "metadata": {},
   "outputs": [],
   "source": []
  }
 ],
 "metadata": {
  "kernelspec": {
   "display_name": "Qiskit v0.35.0 (ipykernel)",
   "language": "python",
   "name": "python3"
  },
  "language_info": {
   "codemirror_mode": {
    "name": "ipython",
    "version": 3
   },
   "file_extension": ".py",
   "mimetype": "text/x-python",
   "name": "python",
   "nbconvert_exporter": "python",
   "pygments_lexer": "ipython3",
   "version": "3.8.13"
  },
  "widgets": {
   "application/vnd.jupyter.widget-state+json": {
    "state": {
     "1628922da55947ad8996105d36e2fd8d": {
      "model_module": "@jupyter-widgets/controls",
      "model_module_version": "1.5.0",
      "model_name": "HTMLModel",
      "state": {
       "layout": "IPY_MODEL_b51f0b445fff4c70bee748d44e5656cd",
       "style": "IPY_MODEL_7512d9205b9647ea8191943d9ff862e7",
       "value": "<p style='font-family: IBM Plex Sans, Arial, Helvetica, sans-serif; font-size: 20px; font-weight: medium;'>Circuit Properties</p>"
      }
     },
     "1abaa5aa887e4106b260be2203f793f1": {
      "model_module": "@jupyter-widgets/controls",
      "model_module_version": "1.5.0",
      "model_name": "ButtonStyleModel",
      "state": {}
     },
     "1cf6e5fc6f644f679353101fe11e76c2": {
      "model_module": "@jupyter-widgets/controls",
      "model_module_version": "1.5.0",
      "model_name": "HTMLModel",
      "state": {
       "layout": "IPY_MODEL_2fdc3962424d4ef28f6a50efcca1f2ef",
       "style": "IPY_MODEL_656cb0cdb2964200a2c3a3a745a0f77e",
       "value": "<h5>Message</h5>"
      }
     },
     "2c5a5bab38ec49bea6890c72a4d34b11": {
      "model_module": "@jupyter-widgets/base",
      "model_module_version": "1.2.0",
      "model_name": "LayoutModel",
      "state": {
       "grid_area": "right",
       "padding": "0px 0px 0px 0px",
       "width": "70px"
      }
     },
     "2fdc3962424d4ef28f6a50efcca1f2ef": {
      "model_module": "@jupyter-widgets/base",
      "model_module_version": "1.2.0",
      "model_name": "LayoutModel",
      "state": {}
     },
     "39485639b1284d90874ae7e40093a57b": {
      "model_module": "@jupyter-widgets/base",
      "model_module_version": "1.2.0",
      "model_name": "LayoutModel",
      "state": {
       "width": "190px"
      }
     },
     "43f755382fd9446390edf39cd94ce851": {
      "model_module": "@jupyter-widgets/controls",
      "model_module_version": "1.5.0",
      "model_name": "HTMLModel",
      "state": {
       "layout": "IPY_MODEL_b8a656474561405b951ba93f8d7f2e2d",
       "style": "IPY_MODEL_ff2740982e6346e3b02fb9d04d7ed0c2",
       "value": "<h5>Status</h5>"
      }
     },
     "5159642a2e9b4af1ad32cf48999e0b59": {
      "model_module": "@jupyter-widgets/controls",
      "model_module_version": "1.5.0",
      "model_name": "HTMLModel",
      "state": {
       "layout": "IPY_MODEL_fe61e10931734d32b3d46250fb24530f",
       "style": "IPY_MODEL_a8e8b77c2fc4458a9cdd4a8e5c7ddcc3",
       "value": "<h5>Queue</h5>"
      }
     },
     "656cb0cdb2964200a2c3a3a745a0f77e": {
      "model_module": "@jupyter-widgets/controls",
      "model_module_version": "1.5.0",
      "model_name": "DescriptionStyleModel",
      "state": {
       "description_width": ""
      }
     },
     "6866342f1ec948ccb31f8108cc95b9e7": {
      "model_module": "@jupyter-widgets/base",
      "model_module_version": "1.2.0",
      "model_name": "LayoutModel",
      "state": {
       "width": "145px"
      }
     },
     "7512d9205b9647ea8191943d9ff862e7": {
      "model_module": "@jupyter-widgets/controls",
      "model_module_version": "1.5.0",
      "model_name": "DescriptionStyleModel",
      "state": {
       "description_width": ""
      }
     },
     "a001a3784f754bdab34358fbdea9cb1e": {
      "model_module": "@jupyter-widgets/controls",
      "model_module_version": "1.5.0",
      "model_name": "GridBoxModel",
      "state": {
       "children": [
        "IPY_MODEL_ec069f3a8b3b477e98e3b4371b4075e7"
       ],
       "layout": "IPY_MODEL_d83c223890964037bee50d6ab1135e69"
      }
     },
     "a0c03202dca24ba8bac6e24674ce393f": {
      "model_module": "@jupyter-widgets/base",
      "model_module_version": "1.2.0",
      "model_name": "LayoutModel",
      "state": {
       "margin": "0px 0px 0px 37px",
       "width": "600px"
      }
     },
     "a5292897b9ec4bf1ac3665233478dbe5": {
      "model_module": "@jupyter-widgets/controls",
      "model_module_version": "1.5.0",
      "model_name": "HTMLModel",
      "state": {
       "layout": "IPY_MODEL_39485639b1284d90874ae7e40093a57b",
       "style": "IPY_MODEL_e7e31f51c26c4a869a548e502448e7b3",
       "value": "<h5>Job ID</h5>"
      }
     },
     "a8e8b77c2fc4458a9cdd4a8e5c7ddcc3": {
      "model_module": "@jupyter-widgets/controls",
      "model_module_version": "1.5.0",
      "model_name": "DescriptionStyleModel",
      "state": {
       "description_width": ""
      }
     },
     "b51f0b445fff4c70bee748d44e5656cd": {
      "model_module": "@jupyter-widgets/base",
      "model_module_version": "1.2.0",
      "model_name": "LayoutModel",
      "state": {
       "margin": "0px 0px 10px 0px"
      }
     },
     "b8a656474561405b951ba93f8d7f2e2d": {
      "model_module": "@jupyter-widgets/base",
      "model_module_version": "1.2.0",
      "model_name": "LayoutModel",
      "state": {
       "width": "95px"
      }
     },
     "ba09a3391e5240d1bedf8277622495e2": {
      "model_module": "@jupyter-widgets/controls",
      "model_module_version": "1.5.0",
      "model_name": "HBoxModel",
      "state": {
       "children": [
        "IPY_MODEL_a5292897b9ec4bf1ac3665233478dbe5",
        "IPY_MODEL_cb853fd011fd4f85b38537ad2d37dd33",
        "IPY_MODEL_43f755382fd9446390edf39cd94ce851",
        "IPY_MODEL_5159642a2e9b4af1ad32cf48999e0b59",
        "IPY_MODEL_1cf6e5fc6f644f679353101fe11e76c2"
       ],
       "layout": "IPY_MODEL_a0c03202dca24ba8bac6e24674ce393f"
      }
     },
     "cb853fd011fd4f85b38537ad2d37dd33": {
      "model_module": "@jupyter-widgets/controls",
      "model_module_version": "1.5.0",
      "model_name": "HTMLModel",
      "state": {
       "layout": "IPY_MODEL_6866342f1ec948ccb31f8108cc95b9e7",
       "style": "IPY_MODEL_cb9caebd17a74fd88b320ec8a4d34079",
       "value": "<h5>Backend</h5>"
      }
     },
     "cb9caebd17a74fd88b320ec8a4d34079": {
      "model_module": "@jupyter-widgets/controls",
      "model_module_version": "1.5.0",
      "model_name": "DescriptionStyleModel",
      "state": {
       "description_width": ""
      }
     },
     "d83c223890964037bee50d6ab1135e69": {
      "model_module": "@jupyter-widgets/base",
      "model_module_version": "1.2.0",
      "model_name": "LayoutModel",
      "state": {
       "grid_template_areas": "\n                                       \". . . . right \"\n                                        ",
       "grid_template_columns": "20% 20% 20% 20% 20%",
       "width": "100%"
      }
     },
     "e7e31f51c26c4a869a548e502448e7b3": {
      "model_module": "@jupyter-widgets/controls",
      "model_module_version": "1.5.0",
      "model_name": "DescriptionStyleModel",
      "state": {
       "description_width": ""
      }
     },
     "ec069f3a8b3b477e98e3b4371b4075e7": {
      "model_module": "@jupyter-widgets/controls",
      "model_module_version": "1.5.0",
      "model_name": "ButtonModel",
      "state": {
       "button_style": "primary",
       "description": "Clear",
       "layout": "IPY_MODEL_2c5a5bab38ec49bea6890c72a4d34b11",
       "style": "IPY_MODEL_1abaa5aa887e4106b260be2203f793f1"
      }
     },
     "fe61e10931734d32b3d46250fb24530f": {
      "model_module": "@jupyter-widgets/base",
      "model_module_version": "1.2.0",
      "model_name": "LayoutModel",
      "state": {
       "width": "70px"
      }
     },
     "ff2740982e6346e3b02fb9d04d7ed0c2": {
      "model_module": "@jupyter-widgets/controls",
      "model_module_version": "1.5.0",
      "model_name": "DescriptionStyleModel",
      "state": {
       "description_width": ""
      }
     }
    },
    "version_major": 2,
    "version_minor": 0
   }
  }
 },
 "nbformat": 4,
 "nbformat_minor": 5
}
