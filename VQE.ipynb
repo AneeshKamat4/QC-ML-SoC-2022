{
 "cells": [
  {
   "cell_type": "markdown",
   "id": "dc1cf48a",
   "metadata": {},
   "source": [
    "# The Variational Quantum Eigensolver (VQE)\n",
    "\n",
    "VQE is a flagship algorithm for quantum chemistry. It is an application of the Ritz variational principle, where a quantum computer is trained to prepare the ground state of a given molecule.\n",
    "\n",
    "The inputs to the VQE algorithm concise of a molecular Hamiltonian and a parameterized circuit that prepares the quantum state of the molecule. We define the cost function of the VQE as the expectation value of the Hamiltonian computed in the trial state. \n",
    "\n",
    "We obtain the ground state of the target Hamiltonian by performing an iterative cost minimization function. The optimization is carried out by a classical optimizer that leverages a quantum computer to evaluate the cost function and calculate its gradient at each optimization step.\n",
    "\n"
   ]
  },
  {
   "cell_type": "markdown",
   "id": "3a52ed87",
   "metadata": {},
   "source": [
    "## The electronic Hamiltonian\n",
    "The first step is to specify and define the molecule we wish to simulate. We do this by providing a list with the symbols of the constituent atoms (for example H,H for a Hydrogen molecule) and a one-dimensional array with the corresponding nuclear coordinates in atomic units."
   ]
  },
  {
   "cell_type": "code",
   "execution_count": 2,
   "id": "a199ed6b",
   "metadata": {},
   "outputs": [],
   "source": [
    "from pennylane import numpy as np\n",
    "\n",
    "symbols = [\"H\", \"H\"]\n",
    "coordinates = np.array([0.0, 0.0, -0.6614, 0.0, 0.0, 0.6614])"
   ]
  },
  {
   "cell_type": "code",
   "execution_count": 3,
   "id": "1329403e",
   "metadata": {},
   "outputs": [
    {
     "name": "stdout",
     "output_type": "stream",
     "text": [
      "Number of qubits =  4\n",
      "The Hamiltonian is    (-0.24274501250416763) [Z2]\n",
      "+ (-0.24274501250416763) [Z3]\n",
      "+ (-0.04207255204071575) [I0]\n",
      "+ (0.1777135823552703) [Z0]\n",
      "+ (0.1777135823552704) [Z1]\n",
      "+ (0.12293330446055589) [Z0 Z2]\n",
      "+ (0.12293330446055589) [Z1 Z3]\n",
      "+ (0.16768338851176784) [Z0 Z3]\n",
      "+ (0.16768338851176784) [Z1 Z2]\n",
      "+ (0.17059759275423755) [Z0 Z1]\n",
      "+ (0.17627661386339277) [Z2 Z3]\n",
      "+ (-0.04475008405121195) [Y0 Y1 X2 X3]\n",
      "+ (-0.04475008405121195) [X0 X1 Y2 Y3]\n",
      "+ (0.04475008405121195) [Y0 X1 X2 Y3]\n",
      "+ (0.04475008405121195) [X0 Y1 Y2 X3]\n"
     ]
    }
   ],
   "source": [
    "import pennylane as qml\n",
    "\n",
    "H, qubits = qml.qchem.molecular_hamiltonian(symbols, coordinates)\n",
    "print(\"Number of qubits = \", qubits)\n",
    "print(\"The Hamiltonian is \", H)"
   ]
  },
  {
   "cell_type": "markdown",
   "id": "89b49e16",
   "metadata": {},
   "source": [
    "The outputs of the function are the Hamiltonian, represented as a linear combination of Pauli operators, and the number of qubits required for the quantum simulations. \n",
    "\n",
    "For this example, we use a minimal basis set to represent the molecular orbitals. In this approximation, we have four spin orbitals, which defines the number of qubits. Furthermore, we use the Jordan-Wigner transformation to perform the fermionic-to-qubit mapping of the Hamiltonian.\n",
    "\n",
    "## Implementing the VQE algorithm"
   ]
  },
  {
   "cell_type": "code",
   "execution_count": 4,
   "id": "dcb8fcc7",
   "metadata": {},
   "outputs": [],
   "source": [
    "dev = qml.device(\"default.qubit\", wires=qubits)"
   ]
  },
  {
   "cell_type": "markdown",
   "id": "c0631b08",
   "metadata": {},
   "source": [
    "Now, we definte the quantum circuit that will prepare the trial state of the molecule. We wish to prepare states of the form,\n",
    "\n",
    "$$ |\\Psi(\\theta)\\rangle = \\cos{(\\theta/2)}|1100\\rangle - \\sin{(\\theta/2)}|0011\\rangle, $$\n",
    "\n",
    "where $\\theta$ is the variational parameter to be optimized in order to find the best approximation to the true ground state. In the Jordan-Wigner encoding, the first term $|1100\\rangle$ represents the state where the lowest-energy orbitals are occupied by the two electrons in the molecule. This state is also called the Hartree-Fock (HF) state.\n",
    "\n",
    "The second term $|0011\\rangle$ encodes a double excitation of the HF state where both particles are excited from quibits 0,1 to 2,3.\n",
    "\n",
    "We will be using Givens rotations, these couple the four-qubit states $|1100\\rangle$ and $|0011\\rangle$, and correspond to the ```DoubleExcitation``` operation i.e., performs an $SO(2)$ roation in the two-dimensional subspace ${|1100\\rangle, |0011\\rangle}$. It performs the transformation\n",
    "\n",
    "$$ |0011\\rangle \\rightarrow \\cos{(\\phi/2)}|0011\\rangle + \\sin{(\\phi/2)}|1100\\rangle $$\n",
    "$$ |1100\\rangle \\rightarrow \\cos{(\\phi/2)}|1100\\rangle - \\sin{(\\phi/2)}|0011\\rangle ,$$\n",
    "\n",
    "while leaving all the other basis states unchanged.\n",
    "\n",
    "The quantum circuit to prepare the trial state $|\\Psi(\\theta)\\rangle$ is implemented below using the ```hf_state()``` function to generate the vector representing the Hartree-Fock state."
   ]
  },
  {
   "cell_type": "code",
   "execution_count": 5,
   "id": "13b64d34",
   "metadata": {},
   "outputs": [
    {
     "name": "stdout",
     "output_type": "stream",
     "text": [
      "[1 1 0 0]\n"
     ]
    }
   ],
   "source": [
    "electrons = 2\n",
    "hf = qml.qchem.hf_state(electrons, qubits)\n",
    "print(hf)"
   ]
  },
  {
   "cell_type": "markdown",
   "id": "238bbabf",
   "metadata": {},
   "source": [
    "The ```hf``` array is used by the ```BasisState``` operation to initialize the qubit register. Then, we just act with the ```DoubleExcitation``` operation on the four qubits."
   ]
  },
  {
   "cell_type": "code",
   "execution_count": 6,
   "id": "b3080c9d",
   "metadata": {},
   "outputs": [],
   "source": [
    "def circuit(param, wires):\n",
    "    qml.BasisState(hf, wires=wires)\n",
    "    qml.DoubleExcitation(param, wires=[0, 1, 2, 3])"
   ]
  },
  {
   "cell_type": "markdown",
   "id": "e3345360",
   "metadata": {},
   "source": [
    "Now we must define the cost function to compute the expectation value of the molecular Hamiltonian in the trial state prepared by the circuit. We can do so by using the ```expval()``` function. The decorator syntax allows us to run the cost function as an executable QNode with the gate parameter $\\theta$:"
   ]
  },
  {
   "cell_type": "code",
   "execution_count": 7,
   "id": "08a5cedf",
   "metadata": {},
   "outputs": [],
   "source": [
    "@qml.qnode(dev)\n",
    "def cost_fn(param):\n",
    "    circuit(param, wires=range(qubits))\n",
    "    return qml.expval(H)"
   ]
  },
  {
   "cell_type": "markdown",
   "id": "64db2d83",
   "metadata": {},
   "source": [
    "We can now proceed to minimize the cost function and thus find the ground state of the Hydrogen molecule ($\\text{H}_2$). First, we need to define the classical optmize, we will use a basic gradient-descent optimizer."
   ]
  },
  {
   "cell_type": "code",
   "execution_count": 8,
   "id": "f7135483",
   "metadata": {},
   "outputs": [],
   "source": [
    "opt = qml.GradientDescentOptimizer(stepsize=0.4)"
   ]
  },
  {
   "cell_type": "markdown",
   "id": "3c65be65",
   "metadata": {},
   "source": [
    "We can initialize the circuit parameter $\\theta$ to 0 so that we start from the Hartree-Fock state."
   ]
  },
  {
   "cell_type": "code",
   "execution_count": 9,
   "id": "9353471e",
   "metadata": {},
   "outputs": [],
   "source": [
    "theta = np.array(0.0, requires_grad=True)"
   ]
  },
  {
   "cell_type": "markdown",
   "id": "abfde21e",
   "metadata": {},
   "source": [
    "We carry out this optimization over a maximum of 100 steps and aim to reach a convergence tolerance of $10^{-6}$ for the value of the cost function."
   ]
  },
  {
   "cell_type": "code",
   "execution_count": 10,
   "id": "03c67ae0",
   "metadata": {},
   "outputs": [
    {
     "name": "stdout",
     "output_type": "stream",
     "text": [
      "Step = 0,  Energy = -1.12799983 Ha\n",
      "Step = 2,  Energy = -1.13466246 Ha\n",
      "Step = 4,  Energy = -1.13590595 Ha\n",
      "Step = 6,  Energy = -1.13613667 Ha\n",
      "Step = 8,  Energy = -1.13617944 Ha\n",
      "Step = 10,  Energy = -1.13618736 Ha\n",
      "Step = 12,  Energy = -1.13618883 Ha\n",
      "\n",
      "Final value of the ground-state energy = -1.13618883 Ha\n",
      "\n",
      "Optimal value of the circuit parameter = 0.2089\n"
     ]
    }
   ],
   "source": [
    "# store the values of the cost function\n",
    "energy = [cost_fn(theta)]\n",
    "\n",
    "# store the values of the circuit parameter\n",
    "angle = [theta]\n",
    "\n",
    "max_iterations = 100\n",
    "conv_tol = 1e-06\n",
    "\n",
    "for n in range(max_iterations):\n",
    "    theta, prev_energy = opt.step_and_cost(cost_fn, theta)\n",
    "\n",
    "    energy.append(cost_fn(theta))\n",
    "    angle.append(theta)\n",
    "\n",
    "    conv = np.abs(energy[-1] - prev_energy)\n",
    "\n",
    "    if n % 2 == 0:\n",
    "        print(f\"Step = {n},  Energy = {energy[-1]:.8f} Ha\")\n",
    "\n",
    "    if conv <= conv_tol:\n",
    "        break\n",
    "\n",
    "print(\"\\n\" f\"Final value of the ground-state energy = {energy[-1]:.8f} Ha\")\n",
    "print(\"\\n\" f\"Optimal value of the circuit parameter = {angle[-1]:.4f}\")"
   ]
  },
  {
   "cell_type": "markdown",
   "id": "775b743e",
   "metadata": {},
   "source": [
    "Now we can plot the values of the ground state energy of the molecule and the gate parameter $\\theta$ as a function of the optimization step."
   ]
  },
  {
   "cell_type": "code",
   "execution_count": 12,
   "id": "115d6fe0",
   "metadata": {
    "scrolled": true
   },
   "outputs": [
    {
     "data": {
      "image/png": "[encoded data removed]",
      "text/plain": [
       "<Figure size 864x360 with 2 Axes>"
      ]
     },
     "metadata": {
      "needs_background": "light"
     },
     "output_type": "display_data"
    }
   ],
   "source": [
    "import matplotlib.pyplot as plt\n",
    "\n",
    "fig = plt.figure()\n",
    "fig.set_figheight(5)\n",
    "fig.set_figwidth(12)\n",
    "\n",
    "# Full configuration interaction (FCI) energy computed classically\n",
    "E_fci = -1.136189454088\n",
    "\n",
    "# Add energy plot on column 1\n",
    "ax1 = fig.add_subplot(121)\n",
    "ax1.plot(range(n + 2), energy, \"go\", ls=\"dashed\")\n",
    "ax1.plot(range(n + 2), np.full(n + 2, E_fci), color=\"red\")\n",
    "ax1.set_xlabel(\"Optimization step\", fontsize=13)\n",
    "ax1.set_ylabel(\"Energy (Hartree)\", fontsize=13)\n",
    "ax1.text(0.5, -1.1176, r\"$E_\\mathrm{HF}$\", fontsize=15)\n",
    "ax1.text(0, -1.1357, r\"$E_\\mathrm{FCI}$\", fontsize=15)\n",
    "plt.xticks(fontsize=12)\n",
    "plt.yticks(fontsize=12)\n",
    "\n",
    "# Add angle plot on column 2\n",
    "ax2 = fig.add_subplot(122)\n",
    "ax2.plot(range(n + 2), angle, \"go\", ls=\"dashed\")\n",
    "ax2.set_xlabel(\"Optimization step\", fontsize=13)\n",
    "ax2.set_ylabel(\"Gate parameter $\\\\theta$ (rad)\", fontsize=13)\n",
    "plt.xticks(fontsize=12)\n",
    "plt.yticks(fontsize=12)\n",
    "\n",
    "plt.subplots_adjust(wspace=0.3, bottom=0.2)\n",
    "plt.show()"
   ]
  },
  {
   "cell_type": "markdown",
   "id": "b0ecbdb6",
   "metadata": {},
   "source": [
    "Thus we can observe that the VQE algorithm has converged after 13 iterations. The optimal value of the circuit parameter $\\theta*=0.208$ defines the state as\n",
    "\n",
    "$$ |\\Psi(\\theta*)\\rangle = 0.994|1100\\rangle - 0.104 |0011\\rangle,$$\n",
    "\n",
    "which is precisely the ground state of the $\\text{H}_2$ molecule in a minimal basis set approximation."
   ]
  },
  {
   "cell_type": "markdown",
   "id": "ea7f389d",
   "metadata": {},
   "source": [
    "## Conclusion\n",
    "\n",
    "We have implemented the VQE algorithm to find the ground state of the hydrogen molecule. We used a simple circuit to prepare quantum states of the molecule beyond the Hartree-Fock approximation. The ground-state energy was obtained by minimizing a cost function defined as the expectation value of the molecular Hamiltonian in the trial state."
   ]
  },
  {
   "cell_type": "markdown",
   "id": "016c7ddc",
   "metadata": {},
   "source": [
    "#Another (slightly more involved) example\n",
    "\n",
    "Let us now apply the same approach to a $\\text{He-H}^{+}$ molecule as has been done in the paper I have chosen."
   ]
  },
  {
   "cell_type": "code",
   "execution_count": null,
   "id": "7b2e4b6d",
   "metadata": {},
   "outputs": [],
   "source": [
    "from pennylane import numpy as np\n",
    "\n",
    "symbols = [\"H\", \"He\"]\n",
    "coordinates = np.array([0.0, 0.0, -0.6614, 0.0, 0.0, 0.6614])\n",
    "\n"
   ]
  }
 ],
 "metadata": {
  "kernelspec": {
   "display_name": "Python 3 (ipykernel)",
   "language": "python",
   "name": "python3"
  },
  "language_info": {
   "codemirror_mode": {
    "name": "ipython",
    "version": 3
   },
   "file_extension": ".py",
   "mimetype": "text/x-python",
   "name": "python",
   "nbconvert_exporter": "python",
   "pygments_lexer": "ipython3",
   "version": "3.9.12"
  }
 },
 "nbformat": 4,
 "nbformat_minor": 5
}
