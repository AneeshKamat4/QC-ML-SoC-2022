{
 "cells": [
  {
   "cell_type": "markdown",
   "id": "d7ce9baf-0d5b-446e-9317-14ec24af1e3e",
   "metadata": {},
   "source": [
    "The truth table for a classical OR gate with 3 input bits, with the constraint that there are an even number of 1s input, is as follows:\n",
    "\n",
    "$\\begin{array}{ccc|c}\n",
    "    r & s & t & r \\bigvee s \\bigvee t\\\\\n",
    "    0 & 0 & 0 & 0\\\\\n",
    "    0 & 1 & 1 & 1\\\\\n",
    "    1 & 0 & 1 & 1\\\\\n",
    "    1 & 1 & 0 & 1\\\\\n",
    "\\end{array}$\n",
    " \n",
    "Assuming that all 4 sets of inputs are equally probable, there is a higher probability of the output being 1. As the inputs are random and communication is banned, their best shot at winning is if they send (a,b,c) such that $a \\bigoplus b \\bigoplus c = r \\bigvee s \\bigvee t = 1$ everytime. This implies that everyone (Alice, Bob and Charlie) give back 1 irrespective of the input.\n",
    "\n",
    "Thus, they would win the game 3/4th of the time as $r \\bigvee s \\bigvee t = 1$ in 3 out of 4 possibilities."
   ]
  },
  {
   "cell_type": "markdown",
   "id": "03d0afcd-bc7d-4a25-aba0-446edd5e64a9",
   "metadata": {},
   "source": [
    "For the *Quantum Case*, the strategy to win the game is as such:\n",
    "\n",
    "1. Prepare a GHZ state $|\\psi\\rangle = \\frac{1}{2}(|000\\rangle - |011\\rangle - |101\\rangle - |110\\rangle)$ with each of Alice, Bob and Charlie in control of one qubit.\n",
    "2. Whoever receives a 1, applies a Hadamard gate to their qubit.\n",
    "3. Whoever receives a 0, does nothing.\n",
    "4. After all 3 have performed (or not) the operations, they should measure the bit they are in control of and give that to the Referee.\n",
    "\n",
    "**Case 1** Input bit sequence of (0,0,0)\n",
    "\n",
    "No-one does anything, the world is boring, but Alice, Bob and Charlie win as $a \\bigoplus b \\bigoplus c = r \\bigvee s \\bigvee t = 0$. Woohoo!\n",
    "\n",
    "**Case 2** Input bit sequence of (1,1,0)\n",
    "\n",
    "The initial state of $|\\psi\\rangle = \\frac{1}{2}(|000\\rangle - |011\\rangle - |101\\rangle - |110\\rangle)$ has the Hadamard gate applied on the first two qubits (by Alice and Bob) giving us\n",
    "\n",
    "$$|\\psi\\rangle = \\frac{1}{4}[|111\\rangle - |001\\rangle _ |100\\rangle + |010\\rangle] $$ \n",
    "\n",
    "As can be seen, the operation $a \\bigoplus b \\bigoplus c = r \\bigvee s \\bigvee t = 1$ when conducted on any of the outputs above, and the holy trio of Alice, Bob and Charlie strike again!"
   ]
  },
  {
   "cell_type": "code",
   "execution_count": null,
   "id": "abe346e4-6e27-45eb-95a4-21e82397909a",
   "metadata": {},
   "outputs": [],
   "source": []
  }
 ],
 "metadata": {
  "kernelspec": {
   "display_name": "Python 3 (ipykernel)",
   "language": "python",
   "name": "python3"
  },
  "language_info": {
   "codemirror_mode": {
    "name": "ipython",
    "version": 3
   },
   "file_extension": ".py",
   "mimetype": "text/x-python",
   "name": "python",
   "nbconvert_exporter": "python",
   "pygments_lexer": "ipython3",
   "version": "3.8.13"
  },
  "widgets": {
   "application/vnd.jupyter.widget-state+json": {
    "state": {},
    "version_major": 2,
    "version_minor": 0
   }
  }
 },
 "nbformat": 4,
 "nbformat_minor": 5
}
