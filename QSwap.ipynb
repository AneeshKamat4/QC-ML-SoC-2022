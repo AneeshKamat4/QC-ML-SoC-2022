{
 "cells": [
  {
   "cell_type": "code",
   "execution_count": 66,
   "id": "64b6c1e6-f57e-4235-81f1-67e512a7fa25",
   "metadata": {},
   "outputs": [],
   "source": [
    "import numpy as np\n",
    "from qiskit import QuantumCircuit, QuantumRegister, ClassicalRegister, assemble, Aer\n",
    "from qiskit.visualization import plot_histogram, plot_bloch_vector, array_to_latex\n",
    "from math import sqrt, pi\n",
    "from IPython.display import display, Math"
   ]
  },
  {
   "cell_type": "markdown",
   "id": "870b6c60-4a1a-4623-8336-78d33be5eae4",
   "metadata": {},
   "source": [
    "The CSwap operation is implemented as follows"
   ]
  },
  {
   "cell_type": "code",
   "execution_count": 67,
   "id": "9645a3cc-ed18-495f-a112-542927b33775",
   "metadata": {},
   "outputs": [
    {
     "data": {
      "text/latex": [
       "$$\n",
       "\\text{Circuit = }\n",
       "\n",
       "\\begin{bmatrix}\n",
       "1 & 0 & 0 & 0 & 0 & 0 & 0 & 0  \\\\\n",
       " 0 & 1 & 0 & 0 & 0 & 0 & 0 & 0  \\\\\n",
       " 0 & 0 & 1 & 0 & 0 & 0 & 0 & 0  \\\\\n",
       " 0 & 0 & 0 & 1 & 0 & 0 & 0 & 0  \\\\\n",
       " 0 & 0 & 0 & 0 & 1 & 0 & 0 & 0  \\\\\n",
       " 0 & 0 & 0 & 0 & 0 & 0 & 1 & 0  \\\\\n",
       " 0 & 0 & 0 & 0 & 0 & 1 & 0 & 0  \\\\\n",
       " 0 & 0 & 0 & 0 & 0 & 0 & 0 & 1  \\\\\n",
       " \\end{bmatrix}\n",
       "$$"
      ],
      "text/plain": [
       "<IPython.core.display.Latex object>"
      ]
     },
     "metadata": {},
     "output_type": "display_data"
    }
   ],
   "source": [
    "cswap = QuantumCircuit(3)\n",
    "cswap.cx(0,1)\n",
    "cswap.ccx(2,1,0)\n",
    "cswap.cx(0,1)\n",
    "\n",
    "cswap.draw()\n",
    "\n",
    "unitarysim = Aer.get_backend('aer_simulator')\n",
    "cswap.save_unitary()\n",
    "qobj = assemble(cswap)\n",
    "unitary = unitarysim.run(qobj).result().get_unitary()\n",
    "display(array_to_latex(unitary, prefix=\"\\\\text{Circuit = }\\n\"))"
   ]
  },
  {
   "cell_type": "code",
   "execution_count": 68,
   "id": "208d1db2-1ab3-4025-9604-a8a290dba0aa",
   "metadata": {},
   "outputs": [
    {
     "data": {
      "image/png": "[encoded data removed]",
      "text/plain": [
       "<Figure size 327.397x264.88 with 1 Axes>"
      ]
     },
     "execution_count": 68,
     "metadata": {},
     "output_type": "execute_result"
    }
   ],
   "source": [
    "q = QuantumRegister(3,'q')\n",
    "c = ClassicalRegister(1,'c')\n",
    "\n",
    "qswap = QuantumCircuit(q,c)\n",
    "qswap.h(q[0]) #Applying a Hadamard gate\n",
    "qswap.x(q[1]) #Comment to make both states non-orthogonal\n",
    "qswap.cswap(q[0],q[1],q[2]) # Contolled SWAP gate\n",
    "qswap.h(q[0]) \n",
    "qswap.measure(q[0],c[0]) #Measuring the qubit\n",
    "\n",
    "qswap.draw()"
   ]
  },
  {
   "cell_type": "code",
   "execution_count": 69,
   "id": "452ceac1-3e5a-474d-b4a7-c7d3be939238",
   "metadata": {},
   "outputs": [
    {
     "data": {
      "image/png": "[encoded data removed]",
      "text/plain": [
       "<Figure size 504x360 with 1 Axes>"
      ]
     },
     "execution_count": 69,
     "metadata": {},
     "output_type": "execute_result"
    }
   ],
   "source": [
    "sim = Aer.get_backend('aer_simulator') \n",
    "result = sim.run(qswap).result()\n",
    "counts = result.get_counts()\n",
    "plot_histogram(counts)"
   ]
  },
  {
   "cell_type": "markdown",
   "id": "9a05ea3a-133d-49f3-af92-23202420bc26",
   "metadata": {},
   "source": [
    "The experimental verification of the above simulation is done below."
   ]
  },
  {
   "cell_type": "code",
   "execution_count": 85,
   "id": "33587510-5460-4e4a-9495-e8c789b39252",
   "metadata": {},
   "outputs": [
    {
     "name": "stdout",
     "output_type": "stream",
     "text": [
      "{'1': 610, '0': 414}\n",
      "{'1': 601, '0': 423}\n",
      "{'1': 620, '0': 404}\n",
      "{'0': 439, '1': 585}\n",
      "{'0': 412, '1': 612}\n",
      "{'1': 597, '0': 427}\n",
      "{'0': 431, '1': 593}\n",
      "{'1': 599, '0': 425}\n",
      "{'1': 603, '0': 421}\n",
      "{'1': 609, '0': 415}\n",
      "{'1': 588, '0': 436}\n",
      "{'0': 415, '1': 609}\n",
      "{'0': 414, '1': 610}\n",
      "{'1': 595, '0': 429}\n",
      "{'0': 421, '1': 603}\n",
      "{'0': 418, '1': 606}\n",
      "{'1': 615, '0': 409}\n",
      "{'1': 611, '0': 413}\n",
      "{'0': 407, '1': 617}\n",
      "{'0': 397, '1': 627}\n",
      "{'0': 405, '1': 619}\n",
      "{'1': 588, '0': 436}\n",
      "{'0': 427, '1': 597}\n",
      "{'1': 621, '0': 403}\n",
      "{'1': 619, '0': 405}\n",
      "{'0': 411, '1': 613}\n",
      "{'0': 426, '1': 598}\n",
      "{'0': 404, '1': 620}\n",
      "{'1': 585, '0': 439}\n",
      "{'1': 606, '0': 418}\n",
      "{'0': 420, '1': 604}\n",
      "{'0': 433, '1': 591}\n",
      "{'0': 413, '1': 611}\n",
      "{'1': 629, '0': 395}\n",
      "{'0': 414, '1': 610}\n",
      "{'0': 427, '1': 597}\n",
      "{'0': 405, '1': 619}\n",
      "{'0': 457, '1': 567}\n",
      "{'1': 601, '0': 423}\n",
      "{'0': 436, '1': 588}\n",
      "{'0': 412, '1': 612}\n",
      "{'1': 595, '0': 429}\n",
      "{'1': 581, '0': 443}\n",
      "{'0': 408, '1': 616}\n",
      "{'1': 595, '0': 429}\n",
      "{'0': 436, '1': 588}\n",
      "{'0': 398, '1': 626}\n",
      "{'0': 405, '1': 619}\n",
      "{'0': 391, '1': 633}\n",
      "{'1': 614, '0': 410}\n",
      "{'0': 444, '1': 580}\n",
      "{'0': 413, '1': 611}\n",
      "{'1': 609, '0': 415}\n",
      "{'0': 420, '1': 604}\n",
      "{'0': 423, '1': 601}\n",
      "{'1': 621, '0': 403}\n",
      "{'0': 414, '1': 610}\n",
      "{'0': 413, '1': 611}\n",
      "{'0': 419, '1': 605}\n",
      "{'1': 604, '0': 420}\n",
      "{'0': 413, '1': 611}\n",
      "{'0': 419, '1': 605}\n",
      "{'1': 627, '0': 397}\n",
      "{'0': 393, '1': 631}\n",
      "{'0': 404, '1': 620}\n",
      "{'1': 606, '0': 418}\n",
      "{'1': 612, '0': 412}\n",
      "{'0': 441, '1': 583}\n",
      "{'0': 416, '1': 608}\n",
      "{'0': 447, '1': 577}\n",
      "{'0': 424, '1': 600}\n",
      "{'0': 432, '1': 592}\n",
      "{'1': 588, '0': 436}\n",
      "{'0': 425, '1': 599}\n",
      "{'0': 426, '1': 598}\n",
      "{'0': 410, '1': 614}\n",
      "{'0': 411, '1': 613}\n",
      "{'0': 417, '1': 607}\n",
      "{'1': 603, '0': 421}\n",
      "{'0': 421, '1': 603}\n",
      "{'0': 431, '1': 593}\n",
      "{'0': 428, '1': 596}\n",
      "{'0': 420, '1': 604}\n",
      "{'0': 427, '1': 597}\n",
      "{'0': 413, '1': 611}\n",
      "{'0': 420, '1': 604}\n",
      "{'0': 394, '1': 630}\n",
      "{'1': 621, '0': 403}\n",
      "{'0': 415, '1': 609}\n",
      "{'0': 431, '1': 593}\n",
      "{'0': 429, '1': 595}\n",
      "{'1': 610, '0': 414}\n",
      "{'1': 637, '0': 387}\n",
      "{'1': 607, '0': 417}\n",
      "{'0': 420, '1': 604}\n",
      "{'0': 430, '1': 594}\n",
      "{'1': 590, '0': 434}\n",
      "{'0': 420, '1': 604}\n",
      "{'0': 419, '1': 605}\n",
      "{'1': 617, '0': 407}\n",
      "41854 60546\n",
      "Inner product =  0.0\n",
      "{'0': 41854, '1': 60546}\n"
     ]
    },
    {
     "data": {
      "image/png": "[encoded data removed]",
      "text/plain": [
       "<Figure size 504x360 with 1 Axes>"
      ]
     },
     "execution_count": 85,
     "metadata": {},
     "output_type": "execute_result"
    }
   ],
   "source": [
    "sim = Aer.get_backend('aer_simulator') \n",
    "num_zero = 0\n",
    "num_one = 0\n",
    "for i in range(100):\n",
    "    result = sim.run(qswap).result()\n",
    "    counts = result.get_counts()\n",
    "    print(counts)\n",
    "    num_zero+= counts['0']\n",
    "    num_one+= counts['1']\n",
    "print(num_zero,num_one)\n",
    "counts = {'0':num_zero,'1':num_one}\n",
    "a = (num_zero - num_one)/(num_zero + num_one)\n",
    "if a<0 : \n",
    "    a = 0\n",
    "a = np.sqrt(a)\n",
    "print(\"Inner product = \",a)\n",
    "print(counts)\n",
    "plot_histogram(counts)"
   ]
  },
  {
   "cell_type": "markdown",
   "id": "db3ea092-9bf5-4a6b-a09e-a3302a039518",
   "metadata": {},
   "source": [
    "Ans 2) The measurement gate on the first qubit ensures that it is 0 with a probability\n",
    "\n",
    "P = (1 + (Inner Product)^2)/2\n",
    "\n",
    "The downside of this test is that the qubits cannot be recovered to the same state as before. Hence |ψ⟩,|ϕ⟩| must be prepared multiple times independently in order to get a good probability estimate and hence the value of inner product. By running the experiment a sufficiently large number of times, we can get the square of the inner product. The sign can be determined by inspection."
   ]
  },
  {
   "cell_type": "code",
   "execution_count": 70,
   "id": "37f1d2ca-e7f7-4ab5-8c88-cf7e04c1a842",
   "metadata": {},
   "outputs": [
    {
     "name": "stdout",
     "output_type": "stream",
     "text": [
      "Squared Inner Product: 0.877197265625\n",
      "Counts:  {'0': 521, '1': 503}\n"
     ]
    }
   ],
   "source": [
    "if '1' in counts:\n",
    "    b = counts['1']\n",
    "else:\n",
    "    b = 0\n",
    "    \n",
    "s = 1-(2/nShots)*(b)\n",
    "\n",
    "print(\"Squared Inner Product:\",str(s))\n",
    "print(\"Counts: \",counts)"
   ]
  },
  {
   "cell_type": "markdown",
   "id": "8fd5f988-4e40-4103-a4ba-8d5eff6026fb",
   "metadata": {},
   "source": [
    "Now for an example set of states we see:"
   ]
  },
  {
   "cell_type": "code",
   "execution_count": 78,
   "id": "1d0cc7a3-a9d4-480b-867a-0fc09d4735f5",
   "metadata": {},
   "outputs": [
    {
     "data": {
      "image/png": "[encoded data removed]",
      "text/plain": [
       "<Figure size 447.797x264.88 with 1 Axes>"
      ]
     },
     "execution_count": 78,
     "metadata": {},
     "output_type": "execute_result"
    }
   ],
   "source": [
    "qswap = QuantumCircuit(q,c)\n",
    "\n",
    "#initializing the example set\n",
    "qswap.initialize([1,0], 2)\n",
    "qswap.initialize([3/5,4/5], 1)\n",
    "qswap.initialize([-3/5,4/5], 0)\n",
    "\n",
    "qswap.h(q[0]) #Applying a Hadamard gate\n",
    "qswap.x(q[1]) #Comment to make both states non-orthogonal\n",
    "qswap.cswap(q[0],q[1],q[2]) # Contolled SWAP gate\n",
    "qswap.h(q[0]) \n",
    "qswap.measure(q[0],c[0]) #Measuring the qubit\n",
    "\n",
    "qswap.draw()"
   ]
  },
  {
   "cell_type": "code",
   "execution_count": 79,
   "id": "30e32a41-67d9-4d3a-bd5e-dd12d94e707d",
   "metadata": {},
   "outputs": [
    {
     "data": {
      "image/png": "[encoded data removed]",
      "text/plain": [
       "<Figure size 504x360 with 1 Axes>"
      ]
     },
     "execution_count": 79,
     "metadata": {},
     "output_type": "execute_result"
    }
   ],
   "source": [
    "sim = Aer.get_backend('aer_simulator') \n",
    "result = sim.run(qswap).result()\n",
    "counts = result.get_counts()\n",
    "plot_histogram(counts)\n"
   ]
  },
  {
   "cell_type": "markdown",
   "id": "5d017a82-9e48-4634-8208-b06b3a580e60",
   "metadata": {},
   "source": [
    "If we aren't keeping the states that we performed the swap test on, we don't need to use CSWAPs to perform the swap test. We can instead just pair up the qubits from each system, perform Bell basis measurements on them, and count whether we see the 11 result an odd or even number of times."
   ]
  },
  {
   "cell_type": "code",
   "execution_count": 80,
   "id": "596535bb-4031-471f-9011-7f63220b4716",
   "metadata": {},
   "outputs": [
    {
     "data": {
      "image/png": "[encoded data removed]",
      "text/plain": [
       "<Figure size 538.279x204.68 with 1 Axes>"
      ]
     },
     "execution_count": 80,
     "metadata": {},
     "output_type": "execute_result"
    }
   ],
   "source": [
    "bell = QuantumCircuit(2)\n",
    "bell.initialize([3/5,4/5], 1)\n",
    "bell.initialize([-3/5,4/5], 0)\n",
    "bell.cx(1,0)\n",
    "bell.h(1)\n",
    "bell.measure_all()\n",
    "bell.draw()"
   ]
  },
  {
   "cell_type": "code",
   "execution_count": 81,
   "id": "d09540e3-d4db-421e-bfcc-ff7d5aa7e1b4",
   "metadata": {},
   "outputs": [
    {
     "name": "stdout",
     "output_type": "stream",
     "text": [
      "{'11': 446, '00': 35, '10': 543}\n",
      "0.2645751311064591\n"
     ]
    },
    {
     "data": {
      "image/png": "[encoded data removed]",
      "text/plain": [
       "<Figure size 504x360 with 1 Axes>"
      ]
     },
     "execution_count": 81,
     "metadata": {},
     "output_type": "execute_result"
    }
   ],
   "source": [
    "qsim = Aer.get_backend('aer_simulator') \n",
    "result = qsim.run(bell).result()\n",
    "counts = result.get_counts()\n",
    "print(counts)\n",
    "print(np.sqrt(2*(counts['00'])/1000))\n",
    "plot_histogram(counts)"
   ]
  },
  {
   "cell_type": "code",
   "execution_count": null,
   "id": "dc2409e1-00f6-47bc-be97-35d80bf60be3",
   "metadata": {},
   "outputs": [],
   "source": []
  }
 ],
 "metadata": {
  "kernelspec": {
   "display_name": "Python 3 (ipykernel)",
   "language": "python",
   "name": "python3"
  },
  "language_info": {
   "codemirror_mode": {
    "name": "ipython",
    "version": 3
   },
   "file_extension": ".py",
   "mimetype": "text/x-python",
   "name": "python",
   "nbconvert_exporter": "python",
   "pygments_lexer": "ipython3",
   "version": "3.8.13"
  },
  "widgets": {
   "application/vnd.jupyter.widget-state+json": {
    "state": {},
    "version_major": 2,
    "version_minor": 0
   }
  }
 },
 "nbformat": 4,
 "nbformat_minor": 5
}
